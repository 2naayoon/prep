{
 "cells": [
  {
   "cell_type": "markdown",
   "metadata": {},
   "source": [
    "pip : 파이썬 모듈이나 패키지를 쉽게 설치할 수 있도록 도와주는 도구\n",
    "\n",
    "1. 패키지 설치\n",
    "pip : 파이썬 모듈이나 패키지를 쉽게 설치할 수 있도록 도와주는 도구\n",
    "pip install 패키지명\n",
    "pip install 패키지명 == 1.0.4\n",
    "\n",
    "2. 패키지 업그레이드\n",
    "pip install --upgrade 패키지명\n",
    "\n",
    "3. 패키지 제거\n",
    "pip uninstall 패키지명\n",
    "\n",
    "4. 설치된 패키지 확인\n",
    "pip list\n",
    "\n",
    "pip install openpyxl : 엑셀파일 패키지 \n",
    "pip install Pillow : 이미지 패키지"
   ]
  },
  {
   "cell_type": "code",
   "execution_count": 3,
   "metadata": {},
   "outputs": [],
   "source": [
    "# Workbook : 쓰기\n",
    "from openpyxl import Workbook\n",
    "\n",
    "wb = Workbook() # 새 워크북 생성\n",
    "ws = wb.active # 현재 활성화된 sheet 가져옴\n",
    "\n",
    "ws.title = \"시트1\"\n",
    "wb.save(\"./resource/sample.xlsx\")\n",
    "wb.close()"
   ]
  },
  {
   "cell_type": "code",
   "execution_count": 4,
   "metadata": {},
   "outputs": [],
   "source": [
    "# 시트 생성\n",
    "ws1 = wb.create_sheet()\n",
    "ws1.title = \"시트2\"\n",
    "ws1.sheet_properties.tabColor = \"ff66ff\"\n",
    "\n",
    "wb.save(\"./resource/sample.xlsx\")"
   ]
  },
  {
   "cell_type": "code",
   "execution_count": 5,
   "metadata": {},
   "outputs": [],
   "source": [
    "# index : 시트 위치 지정\n",
    "ws1 = wb.create_sheet(title=\"급여명세\",index=2)\n",
    "\n",
    "# 시트 복사\n",
    "new_ws = wb[\"시트2\"]\n",
    "new_ws[\"A1\"] = \"Test\"\n",
    "target = wb.copy_worksheet(new_ws)\n",
    "target.title=\"Copied Sheet\"\n",
    "\n",
    "wb.save(\"./resource/sample.xlsx\")"
   ]
  },
  {
   "cell_type": "code",
   "execution_count": 6,
   "metadata": {},
   "outputs": [
    {
     "data": {
      "text/plain": [
       "['시트1', '시트2', '급여명세', 'Copied Sheet']"
      ]
     },
     "execution_count": 6,
     "metadata": {},
     "output_type": "execute_result"
    }
   ],
   "source": [
    "# 생성된 모든 시트명 가져오기\n",
    "wb.sheetnames"
   ]
  },
  {
   "cell_type": "code",
   "execution_count": 11,
   "metadata": {},
   "outputs": [
    {
     "name": "stdout",
     "output_type": "stream",
     "text": [
      "<Cell '시트1'.A1>\n",
      "1\n",
      "1\n",
      "6\n",
      "10\n"
     ]
    }
   ],
   "source": [
    "ws1 = wb[\"시트1\"]\n",
    "\n",
    "# 셀에 데이터 입력\n",
    "ws1[\"A1\"] = 1\n",
    "ws1[\"A2\"] = 2\n",
    "ws1[\"A3\"] = 3\n",
    "ws1[\"A4\"] = 4\n",
    "\n",
    "ws1[\"B1\"] = 5\n",
    "ws1[\"B2\"] = 6\n",
    "ws1[\"B3\"] = 7\n",
    "ws1[\"B4\"] = 8\n",
    "\n",
    "print(ws1[\"A1\"]) # 셀 정보 출력\n",
    "print(ws1[\"A1\"].value) # 셀 값 출력\n",
    "\n",
    "print(ws1.cell(row=1, column=1).value) # A1\n",
    "print(ws1.cell(row=2, column=2).value) # B2\n",
    "\n",
    "w = ws1.cell(row=1, column=3, value=10)\n",
    "print(w.value)\n",
    "\n",
    "wb.save(\"./resource/sample.xlsx\")"
   ]
  },
  {
   "cell_type": "code",
   "execution_count": 13,
   "metadata": {},
   "outputs": [],
   "source": [
    "from random import randint\n",
    "\n",
    "# 1 ~ 100 사이의 임의의 숫자를 채우기\n",
    "\n",
    "wb = Workbook() # 새 워크북 생성\n",
    "ws = wb.active # 현재 활성화된 sheet 가져옴\n",
    "\n",
    "ws.title = \"시트1\"\n",
    "\n",
    "for x in range(1, 11):\n",
    "    for y in range(1, 11):\n",
    "        ws.cell(row=x, column=y, value=randint(1,100))\n",
    "\n",
    "wb.save(\"./resource/sample2.xlsx\")\n",
    "wb.close()"
   ]
  },
  {
   "cell_type": "code",
   "execution_count": 14,
   "metadata": {},
   "outputs": [
    {
     "name": "stdout",
     "output_type": "stream",
     "text": [
      "82 16 55 61 99 1 11 92 2 12 \n",
      "75 71 93 6 72 95 63 81 23 1 \n",
      "95 77 96 22 38 90 95 40 29 95 \n",
      "45 28 84 98 41 58 79 93 2 47 \n",
      "25 84 38 65 40 100 46 74 40 6 \n",
      "77 74 76 69 85 29 89 53 86 4 \n",
      "2 94 80 17 42 82 80 43 48 93 \n",
      "41 42 15 80 25 50 61 49 1 82 \n",
      "70 47 69 25 15 55 3 85 55 86 \n",
      "41 39 71 35 88 10 79 27 31 19 \n"
     ]
    }
   ],
   "source": [
    "# excel 파일 열기\n",
    "# load_workbook : 읽기\n",
    "\n",
    "from openpyxl import load_workbook\n",
    "wb = load_workbook(\"./resource/sample2.xlsx\")\n",
    "\n",
    "# 워크시트 가져오기\n",
    "ws = wb.active\n",
    "\n",
    "# 셀 내용 가져오기 - 행, 열 개수 알고 있을 때\n",
    "for x in range(1,11):\n",
    "    for y in range(1,11):\n",
    "        print(ws.cell(row=x, column=y).value, end=\" \")\n",
    "    print()\n",
    "\n",
    "# max_row, max_column : 시트가 가지고 있는 행, 열 개수 가져오기\n",
    "for x in range(1,ws.max_row+1):\n",
    "    for y in range(1,ws.max_column+1):\n",
    "        print(ws.cell(row=x, column=y).value, end=\" \")\n",
    "    print()"
   ]
  },
  {
   "cell_type": "code",
   "execution_count": 2,
   "metadata": {},
   "outputs": [
    {
     "name": "stdout",
     "output_type": "stream",
     "text": [
      "번호 \n",
      "1 \n",
      "2 \n",
      "3 \n",
      "4 \n"
     ]
    }
   ],
   "source": [
    "from openpyxl import Workbook\n",
    "from random import randint\n",
    "\n",
    "wb = Workbook()\n",
    "ws = wb.active\n",
    "# 행 삽입\n",
    "ws.append([\"번호\",\"영어\",\"수학\"])\n",
    "\n",
    "for i in range(1,11):\n",
    "    ws.append([i, randint(1,100), randint(1,100)])\n",
    "\n",
    "# 컬럼 가져오기\n",
    "# col_B = ws[\"B\"]\n",
    "# print(col_B)\n",
    "\n",
    "# for cell in col_B:\n",
    "#     print(cell.value)\n",
    "\n",
    "# cols = ws[\"B:C\"]\n",
    "# for c in cols:\n",
    "#     for cell in c:\n",
    "#         print(cell.value, end=\" \")\n",
    "#     print()\n",
    "\n",
    "# 행 가져오기\n",
    "# row_title = ws[1]\n",
    "# for cell in row_title:\n",
    "#     print(cell.value)\n",
    "\n",
    "# row_range = ws[2:ws.max_row]\n",
    "# for rows in row_range:\n",
    "#     for cell in rows:\n",
    "#         print(cell.value, end=\" \")\n",
    "#     print()\n",
    "\n",
    "# for row in tuple(ws.rows):\n",
    "#     print(row[1].value)\n",
    "\n",
    "# for col in tuple(ws.columns):\n",
    "#     print(col[0].value)\n",
    "\n",
    "# iter_rows() : 전체 rows 가져오기 \n",
    "# iter_rows(min_row=1, max_row=5, max_col=1) : 특정 범위의 rows, cols 가져오기\n",
    "for row in ws.iter_rows(min_row=1, max_row=5, max_col=1):\n",
    "    for cell in row:\n",
    "        print(cell.value, end=\" \")\n",
    "    print()\n",
    "\n",
    "wb.save(\"./resource/range.xlsx\")"
   ]
  },
  {
   "cell_type": "code",
   "execution_count": 5,
   "metadata": {},
   "outputs": [
    {
     "name": "stdout",
     "output_type": "stream",
     "text": [
      "7 번 학생의영어점수는 76\n",
      "8 번 학생의영어점수는 99\n",
      "10 번 학생의영어점수는 93\n"
     ]
    }
   ],
   "source": [
    "from openpyxl import load_workbook\n",
    "\n",
    "# 읽어올 엑셀 파일 지정\n",
    "wb = load_workbook(\"./resource/range.xlsx\")\n",
    "\n",
    "# 시트 가져오기\n",
    "# 시트 여러개면 wb[시트명]\n",
    "# 시트 하나일 때↓\n",
    "ws = wb.active\n",
    "\n",
    "# for row in ws.iter_rows(min_row=2):\n",
    "#     # print(row)\n",
    "#     print(f\"{row[0].value} 번 학생의 영어점수 {row[1].value}, 수학점수 {row[2].value}\")\n",
    "\n",
    "# 영어 점수가 70점 이상인 학생의 영어 점수만 출력\n",
    "# 1번 학생의 영어점수는 75점\n",
    "for row in ws.iter_rows(min_row=2):\n",
    "    if row[1].value >= 70:\n",
    "        print(f\"{row[0].value} 번 학생의영어점수는 {row[1].value}\")\n",
    "\n",
    "# 영어 → 컴퓨터로 변경 (행 - 열 모두 변경)\n",
    "for row in ws.iter_rows(max_row=1):\n",
    "    for cell in row:\n",
    "        if cell.value == \"영어\":\n",
    "            cell.value = \"컴퓨터\"\n",
    "wb.save(\"./resource/range.xlsx\")\n",
    "wb.close()"
   ]
  },
  {
   "cell_type": "code",
   "execution_count": 8,
   "metadata": {},
   "outputs": [],
   "source": [
    "wb = load_workbook(\"./resource/range.xlsx\")\n",
    "\n",
    "ws = wb.active\n",
    "\n",
    "# ws.insert_rows(8)\n",
    "ws.insert_rows(8,5) # 8번 위치부터 5줄 삽입\n",
    "\n",
    "ws.insert_cols(2,3)\n",
    "\n",
    "wb.save(\"./resource/range.xlsx\")\n",
    "wb.close()"
   ]
  },
  {
   "cell_type": "code",
   "execution_count": 11,
   "metadata": {},
   "outputs": [],
   "source": [
    "# 행, 열 삭제\n",
    "\n",
    "wb = load_workbook(\"./resource/range.xlsx\")\n",
    "\n",
    "ws = wb.active\n",
    "\n",
    "# ws.delete_rows(7)\n",
    "# ws.delete_rows(4,6)\n",
    "ws.delete_cols(2,2)\n",
    "\n",
    "wb.save(\"./resource/range.xlsx\")\n",
    "wb.close()"
   ]
  },
  {
   "cell_type": "code",
   "execution_count": 13,
   "metadata": {},
   "outputs": [],
   "source": [
    "# 셀 이동\n",
    "wb = load_workbook(\"./resource/range.xlsx\")\n",
    "ws = wb.active\n",
    "\n",
    "ws.move_range(\"B1:C11\", rows=0, cols=1)\n",
    "ws.cell(column=2, row=1).value= \"국어\"\n",
    "\n",
    "wb.save(\"./resource/range.xlsx\")\n",
    "wb.close()"
   ]
  },
  {
   "cell_type": "code",
   "execution_count": 6,
   "metadata": {},
   "outputs": [],
   "source": [
    "# 차트 작성\n",
    "from openpyxl.chart import BarChart, LineChart, Reference\n",
    "\n",
    "wb = load_workbook(\"./resource/range.xlsx\")\n",
    "ws = wb.active\n",
    "\n",
    "# bar 차트 설정\n",
    "bar_value = Reference(ws, min_row=2, max_row=11, min_col=2, max_col=3)\n",
    "# 차트 종류 설정\n",
    "bar_chart = BarChart()\n",
    "# 차트 데이터 추가\n",
    "bar_chart.add_data(bar_value)\n",
    "# 시트에 차트 추가\n",
    "ws.add_chart(bar_chart, \"E1\")\n",
    "\n",
    "# 라인 차트 설정\n",
    "line_value = Reference(ws, min_row=2, max_row=11, min_col=2, max_col=3)\n",
    "# 차트 종류 설정\n",
    "line_chart = LineChart()\n",
    "# 차트 데이터 추가\n",
    "line_chart.add_data(line_value, titles_from_data=True)\n",
    "# 차트 상세 설정\n",
    "line_chart.title = \"성적표\"\n",
    "line_chart.style = 20\n",
    "line_chart.y_axis.title = \"점수\"\n",
    "line_chart.x_axis.title = \"번호\"\n",
    "\n",
    "# 시트에 차트 추가\n",
    "ws.add_chart(line_chart, \"A16\")\n",
    "\n",
    "wb.save(\"./resource/range_chart.xlsx\")\n",
    "wb.close()"
   ]
  },
  {
   "cell_type": "code",
   "execution_count": 1,
   "metadata": {},
   "outputs": [],
   "source": [
    "# 셀 서식\n",
    "from openpyxl import Workbook\n",
    "from openpyxl import load_workbook\n",
    "from openpyxl.styles import Font, Border, PatternFill, Alignment\n",
    "from openpyxl.styles.borders import Side\n",
    "\n",
    "wb = load_workbook(\"./resource/range.xlsx\")\n",
    "ws = wb.active\n",
    "\n",
    "# 셀 너비 조절\n",
    "ws.column_dimensions[\"A\"].width = 5\n",
    "\n",
    "# 행 높이 조절\n",
    "ws.row_dimensions[1].height = 50\n",
    "\n",
    "# 폰트 스타일\n",
    "# 열 선택\n",
    "a1 = ws[\"A1\"]\n",
    "b1 = ws[\"B1\"]\n",
    "c1 = ws[\"C1\"]\n",
    "\n",
    "a1.font = Font(color=\"ff0000\", italic=True, bold=True)\n",
    "b1.font = Font(color=\"cc33ff\", name=\"Arial\", strike=True)\n",
    "c1.font = Font(color=\"0000ff\", size=20, underline=\"single\")\n",
    "\n",
    "# 테두리\n",
    "thin_border = Border(left=Side(border_style=\"thin\", color=\"00ffcc\"), right=Side(border_style=\"thin\"), top=Side(border_style=\"double\"), bottom=Side(border_style=\"double\"))\n",
    "\n",
    "# 셀에 테두리 적용\n",
    "a1.border = thin_border\n",
    "b1.border = thin_border\n",
    "c1.border = thin_border\n",
    "\n",
    "# 셀 배경색\n",
    "for row in ws.rows:\n",
    "    for cell in row:\n",
    "\n",
    "        # 셀정렬\n",
    "        cell.alignment = Alignment(horizontal=\"center\", vertical=\"center\")\n",
    "\n",
    "        if cell.column == 1:\n",
    "            continue\n",
    "\n",
    "        # isinstance() : 데이터 타입 확인\n",
    "        if isinstance(cell.value, int) and cell.value > 80:\n",
    "            cell.fill = PatternFill(fgColor=\"00ff00\", fill_type=\"solid\")\n",
    "            cell.font = Font(color=\"ff0000\")\n",
    "\n",
    "wb.save(\"./resource/range_style.xlsx\")\n",
    "wb.close()"
   ]
  },
  {
   "cell_type": "code",
   "execution_count": 3,
   "metadata": {},
   "outputs": [],
   "source": [
    "from datetime import datetime\n",
    "\n",
    "wb = Workbook()\n",
    "ws = wb.active\n",
    "\n",
    "# 대소문자 구별 안 함\n",
    "ws[\"A1\"] = datetime.today()\n",
    "ws[\"A2\"] = \"=sum(1,2,3)\"\n",
    "ws[\"A3\"] = \"=average(1,2,3)\"\n",
    "\n",
    "ws[\"A4\"] = 10\n",
    "ws[\"A5\"] = 20\n",
    "ws[\"A6\"] = 30\n",
    "ws[\"A7\"] = \"=sum(A4:A6)\"\n",
    "\n",
    "wb.save(\"./resource/formula.xlsx\")\n",
    "wb.close()"
   ]
  },
  {
   "cell_type": "code",
   "execution_count": 5,
   "metadata": {},
   "outputs": [],
   "source": [
    "# range.xlsx\n",
    "# average() 영어, 수학\n",
    "\n",
    "wb = load_workbook(\"./resource/range.xlsx\")\n",
    "ws = wb.active\n",
    "\n",
    "ws[\"B13\"] = \"=average(B2:B11)\"\n",
    "ws[\"C13\"] = \"=average(C2:C11)\"\n",
    "\n",
    "wb.save(\"./resource/range.xlsx\")\n",
    "wb.close()"
   ]
  },
  {
   "cell_type": "code",
   "execution_count": 7,
   "metadata": {},
   "outputs": [
    {
     "name": "stdout",
     "output_type": "stream",
     "text": [
      "2024-05-21 11:36:55.402000\n",
      "None\n",
      "None\n",
      "10\n",
      "20\n",
      "30\n",
      "None\n"
     ]
    }
   ],
   "source": [
    "# 수식이 들어간 셀 읽어오기\n",
    "\n",
    "wb = load_workbook(\"./resource/formula.xlsx\", data_only=True)\n",
    "ws = wb.active\n",
    "\n",
    "# 셀 값 모두 가져오기\n",
    "for values in ws.values:\n",
    "    for cell in values:\n",
    "        print(cell)"
   ]
  },
  {
   "cell_type": "code",
   "execution_count": 11,
   "metadata": {},
   "outputs": [],
   "source": [
    "# 셀 병합\n",
    "wb = load_workbook(\"./resource/range.xlsx\")\n",
    "ws = wb.active\n",
    "\n",
    "ws.merge_cells(\"D1:E1\")\n",
    "ws[\"D1\"].value = \"merge\"\n",
    "\n",
    "wb.save(\"./resource/merge.xlsx\")\n",
    "wb.close()"
   ]
  },
  {
   "cell_type": "code",
   "execution_count": 12,
   "metadata": {},
   "outputs": [],
   "source": [
    "# 셀 병합 해제\n",
    "wb = load_workbook(\"./resource/merge.xlsx\")\n",
    "ws = wb.active\n",
    "\n",
    "ws.unmerge_cells(\"D1:E1\")\n",
    "\n",
    "wb.save(\"./resource/merge.xlsx\")\n",
    "wb.close()"
   ]
  },
  {
   "cell_type": "code",
   "execution_count": 13,
   "metadata": {},
   "outputs": [],
   "source": [
    "# 이미지 삽입\n",
    "from openpyxl.drawing.image import Image # pillow 필요로 함 : 이미지를 다룰 수 있게 도와주는 라이브러리\n",
    "\n",
    "wb = Workbook()\n",
    "ws = wb.active\n",
    "\n",
    "# 이미지 객체 생성\n",
    "img = Image(\"./resource/고양이.jpg\")\n",
    "\n",
    "# 시트에 이미지 추가\n",
    "ws.add_image(img, \"C3\")\n",
    "\n",
    "wb.save(\"./resource/image.xlsx\")"
   ]
  },
  {
   "cell_type": "markdown",
   "metadata": {},
   "source": [
    "- 성적 산출\n",
    "- 100점 만점을 기준으로 출석:10, 퀴즈1:10, 퀴즈2:10, 중간고사:20, 기말고사:30, 프로젝트:20\n",
    "- 학생들의 최정 성적을 검토하는 과정에서 퀴즈2 문제에 오류를 발견하여 모두 만점처리를 하기로 함\n",
    "- [최종 성적]\n",
    "- 학번, 출석, 퀴즈1, 퀴즈2, 중간고사, 기말고사, 프로젝트\n",
    "- 1, 10, 8, 5, 14, 26, 12\n",
    "- 2, 7, 3, 7, 15, 24, 18\n",
    "- 3, 9, 5, 8, 8, 12, 4\n",
    "- 4, 7, 8, 7, 17, 21, 18\n",
    "- 5, 7, 8, 7, 16, 25, 15\n",
    "- 6, 3, 5, 8, 8, 17, 0\n",
    "- 7, 4, 9, 10, 16, 27, 18\n",
    "- 8, 6, 6, 6, 15, 19, 17\n",
    "- 9, 10, 10, 9, 19, 30, 19\n",
    "- 10, 9, 8, 8, 20, 25, 20\n",
    "\n",
    "- 1. 퀴즈2 점수를 10으로 수정\n",
    "- 2. H열에 총점(sum 사용), I열에 성적 정보 추가\n",
    "- 3. 성적 정보 : 총점 90 이상 A, 80 이상 B, 70 이상 C, 나머지 D\n",
    "- 4. 출결이 5 미만인 경우 총점 상관없이 F\n",
    "- 5. 파일명 : scores.xlsx"
   ]
  },
  {
   "cell_type": "code",
   "execution_count": 53,
   "metadata": {},
   "outputs": [],
   "source": [
    "wb = Workbook()\n",
    "ws = wb.active\n",
    "\n",
    "# 제목 행 추가\n",
    "ws.append([\"학번\",\"출석\",\"퀴즈1\",\"퀴즈2\",\"중간고사\",\"기말고사\",\"프로젝트\"])\n",
    "\n",
    "# 성적 데이터 추가\n",
    "scores = [\n",
    "    [1, 10, 8, 5, 14, 26, 12],\n",
    "    [2, 7, 3, 7, 15, 24, 18],\n",
    "    [3, 9, 5, 8, 8, 12, 4],\n",
    "    [4, 7, 8, 7, 17, 21, 18],\n",
    "    [5, 7, 8, 7, 16, 25, 15],\n",
    "    [6, 3, 5, 8, 8, 17, 0],\n",
    "    [7, 4, 9, 10, 16, 27, 18],\n",
    "    [8, 6, 6, 6, 15, 19, 17],\n",
    "    [9, 10, 10, 9, 19, 30, 19],\n",
    "    [10, 9, 8, 8, 20, 25, 20]\n",
    "]\n",
    "for score in scores:\n",
    "    ws.append(score)\n",
    "\n",
    "wb.save(\"./resource/academy.xlsx\")\n",
    "wb.close()"
   ]
  },
  {
   "cell_type": "code",
   "execution_count": 54,
   "metadata": {},
   "outputs": [],
   "source": [
    "wb = load_workbook(\"./resource/academy.xlsx\")\n",
    "ws = wb.active\n",
    "\n",
    "# 퀴즈2 점수를 10으로 수정\n",
    "# print(ws[\"D\"])\n",
    "for idx, cell in enumerate(ws[\"D\"]):\n",
    "    # print(idx, cell.value)\n",
    "    if idx == 0:\n",
    "        continue\n",
    "    cell.value = 10\n",
    "\n",
    "# H열에 총점(sum 사용), I열에 성적 정보 추가\n",
    "ws[\"H1\"].value = \"총점\"\n",
    "ws[\"I1\"].value = \"성적\"\n",
    "for idx, score in enumerate(scores,start=2):\n",
    "    # 리스트에서 기존 퀴즈2 점수는 제외하고 다시 수정된 10점 가산해서 총합 구하기\n",
    "    total = sum(score[1:]) - score[3] + 10\n",
    "    ws.cell(row=idx, column=8).value = \"=sum(B{0}:G{0})\".format(idx)\n",
    "\n",
    "    # 성적 정보 : 총점 90이상 A, 80이상 B, 70이상 C, 나머지 D\n",
    "    grade = None\n",
    "    if total >= 90:\n",
    "        grade = \"A\"\n",
    "    elif total >= 80:\n",
    "        grade = \"B\"\n",
    "    elif total >= 70:\n",
    "        grade = \"C\"\n",
    "    else:\n",
    "        grade = \"D\"\n",
    "\n",
    "    # 출결 5 미만인 경우 총점 상관없이 F\n",
    "    if score[1] < 5:\n",
    "        grade = \"F\"\n",
    "\n",
    "    ws.cell(row=idx, column=9).value = grade\n",
    "\n",
    "wb.save(\"./resource/academy.xlsx\")\n",
    "wb.close()"
   ]
  },
  {
   "cell_type": "code",
   "execution_count": 55,
   "metadata": {},
   "outputs": [],
   "source": [
    "# 총점 - 바차트(A13)\n",
    "from openpyxl.chart import BarChart, Reference\n",
    "\n",
    "wb = load_workbook(\"./resource/academy.xlsx\", data_only=True)\n",
    "ws = wb.active\n",
    "\n",
    "bar_value = Reference(ws, min_row=2, max_row= 11, min_col=8, max_col=8)\n",
    "\n",
    "bar_chart = BarChart()\n",
    "bar_chart.add_data(bar_value)\n",
    "ws.add_chart(bar_chart, \"A13\")\n",
    "\n",
    "wb.save(\"./resource/academy.xlsx\")\n",
    "wb.close()"
   ]
  },
  {
   "cell_type": "code",
   "execution_count": null,
   "metadata": {},
   "outputs": [],
   "source": []
  }
 ],
 "metadata": {
  "kernelspec": {
   "display_name": "venv",
   "language": "python",
   "name": "python3"
  },
  "language_info": {
   "codemirror_mode": {
    "name": "ipython",
    "version": 3
   },
   "file_extension": ".py",
   "mimetype": "text/x-python",
   "name": "python",
   "nbconvert_exporter": "python",
   "pygments_lexer": "ipython3",
   "version": "3.12.3"
  }
 },
 "nbformat": 4,
 "nbformat_minor": 2
}
