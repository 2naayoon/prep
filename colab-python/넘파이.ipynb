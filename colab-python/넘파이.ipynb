{
  "nbformat": 4,
  "nbformat_minor": 0,
  "metadata": {
    "colab": {
      "provenance": [],
      "authorship_tag": "ABX9TyPeUhpwzCbeeSX6Yi8qP1bH",
      "include_colab_link": true
    },
    "kernelspec": {
      "name": "python3",
      "display_name": "Python 3"
    },
    "language_info": {
      "name": "python"
    }
  },
  "cells": [
    {
      "cell_type": "markdown",
      "metadata": {
        "id": "view-in-github",
        "colab_type": "text"
      },
      "source": [
        "<a href=\"https://colab.research.google.com/github/2naayoon/pandas/blob/main/%EB%84%98%ED%8C%8C%EC%9D%B4.ipynb\" target=\"_parent\"><img src=\"https://colab.research.google.com/assets/colab-badge.svg\" alt=\"Open In Colab\"/></a>"
      ]
    },
    {
      "cell_type": "markdown",
      "source": [
        "### 넘파이\n",
        "- 과학 계산 및 수학 계산 라이브러리\n",
        "- 이미지와 컴퓨터 그래픽을 빠르게 처리\n",
        "- 반복문 작성하지 않고 전체 데이터 배열을 빠르게 계산할 수 있는 수학 함수 제공\n",
        "\n",
        "> 넘파이 배열\n",
        "- 벡터(1차원)와 매트릭스(2차원)를 배열이라고 함\n",
        "- 머신러닝에서 사용하는 주요 데이터 구조\n",
        "  - 데이터 학습 시 주는 이미지 → 01011..."
      ],
      "metadata": {
        "id": "_T4AC73rg1n9"
      }
    },
    {
      "cell_type": "code",
      "execution_count": 104,
      "metadata": {
        "id": "u6uzxCKgdhlm"
      },
      "outputs": [],
      "source": [
        "import numpy as np"
      ]
    },
    {
      "cell_type": "markdown",
      "source": [
        "### 1. 1차원 배열(벡터)"
      ],
      "metadata": {
        "id": "mFrZ_0Y0iOAV"
      }
    },
    {
      "cell_type": "code",
      "source": [
        "array1 = np.array([1,2,3,4])\n",
        "array1"
      ],
      "metadata": {
        "colab": {
          "base_uri": "https://localhost:8080/"
        },
        "id": "bc4m-gWfhQrO",
        "outputId": "0e87ea3d-e05a-4ef0-9889-f7fa70750270"
      },
      "execution_count": 105,
      "outputs": [
        {
          "output_type": "execute_result",
          "data": {
            "text/plain": [
              "array([1, 2, 3, 4])"
            ]
          },
          "metadata": {},
          "execution_count": 105
        }
      ]
    },
    {
      "cell_type": "code",
      "source": [
        "array1.shape"
      ],
      "metadata": {
        "colab": {
          "base_uri": "https://localhost:8080/"
        },
        "id": "afPMS9yiiVJu",
        "outputId": "8758d30a-2ea2-4ba9-9720-3f736285fe2d"
      },
      "execution_count": 106,
      "outputs": [
        {
          "output_type": "execute_result",
          "data": {
            "text/plain": [
              "(4,)"
            ]
          },
          "metadata": {},
          "execution_count": 106
        }
      ]
    },
    {
      "cell_type": "markdown",
      "source": [
        "### 2. 2차원 배열(매트릭스)"
      ],
      "metadata": {
        "id": "eXekSuaDimHN"
      }
    },
    {
      "cell_type": "code",
      "source": [
        "data1 = [\n",
        "    [1,2,3],\n",
        "    [4,5,6]\n",
        "]\n",
        "array2 = np.array(data1)\n",
        "array2"
      ],
      "metadata": {
        "colab": {
          "base_uri": "https://localhost:8080/"
        },
        "id": "HZ44RxDPiiFV",
        "outputId": "0f2e0677-05bc-4d56-9945-96dc2ee17bdf"
      },
      "execution_count": 107,
      "outputs": [
        {
          "output_type": "execute_result",
          "data": {
            "text/plain": [
              "array([[1, 2, 3],\n",
              "       [4, 5, 6]])"
            ]
          },
          "metadata": {},
          "execution_count": 107
        }
      ]
    },
    {
      "cell_type": "code",
      "source": [
        "array2.shape"
      ],
      "metadata": {
        "colab": {
          "base_uri": "https://localhost:8080/"
        },
        "id": "hvFtWl4si3CP",
        "outputId": "93e5e52a-bf2e-4605-ea16-32d28b6c8ea5"
      },
      "execution_count": 108,
      "outputs": [
        {
          "output_type": "execute_result",
          "data": {
            "text/plain": [
              "(2, 3)"
            ]
          },
          "metadata": {},
          "execution_count": 108
        }
      ]
    },
    {
      "cell_type": "code",
      "source": [
        "# 대괄호 개수 = 차원 개수 (3개까지 늘어남)\n",
        "array3 = np.array([[1,2,3,4]])\n",
        "array3.shape"
      ],
      "metadata": {
        "colab": {
          "base_uri": "https://localhost:8080/"
        },
        "id": "BQQLp3yKi421",
        "outputId": "01cdba80-b6b1-4972-b15c-77ceb720f035"
      },
      "execution_count": 109,
      "outputs": [
        {
          "output_type": "execute_result",
          "data": {
            "text/plain": [
              "(1, 4)"
            ]
          },
          "metadata": {},
          "execution_count": 109
        }
      ]
    },
    {
      "cell_type": "code",
      "source": [
        "# ndim : 차원 수 알아보기\n",
        "\n",
        "print(array1.ndim)\n",
        "print(array2.ndim)\n",
        "print(array3.ndim)"
      ],
      "metadata": {
        "colab": {
          "base_uri": "https://localhost:8080/"
        },
        "id": "qfmag1imjG4F",
        "outputId": "d97a877e-e90f-4f5a-c256-b2281cd154b4"
      },
      "execution_count": 110,
      "outputs": [
        {
          "output_type": "stream",
          "name": "stdout",
          "text": [
            "1\n",
            "2\n",
            "2\n"
          ]
        }
      ]
    },
    {
      "cell_type": "code",
      "source": [
        "# 파이썬에서는 리스트는 서로 다른 타입 가짐\n",
        "\n",
        "list1 = [1,2,\"a\",3.5]\n",
        "list1"
      ],
      "metadata": {
        "colab": {
          "base_uri": "https://localhost:8080/"
        },
        "id": "r_upPPwdjRnP",
        "outputId": "e3ff1483-f056-4759-e5b7-b05b3bcde953"
      },
      "execution_count": 111,
      "outputs": [
        {
          "output_type": "execute_result",
          "data": {
            "text/plain": [
              "[1, 2, 'a', 3.5]"
            ]
          },
          "metadata": {},
          "execution_count": 111
        }
      ]
    },
    {
      "cell_type": "code",
      "source": [
        "# numpy 는 하나의 타입으로 변경해서 array 생성\n",
        "\n",
        "np.array(list1)"
      ],
      "metadata": {
        "colab": {
          "base_uri": "https://localhost:8080/"
        },
        "id": "JQnANsTHjg_O",
        "outputId": "15328719-ec43-4a84-92b3-409e6373c06b"
      },
      "execution_count": 112,
      "outputs": [
        {
          "output_type": "execute_result",
          "data": {
            "text/plain": [
              "array(['1', '2', 'a', '3.5'], dtype='<U32')"
            ]
          },
          "metadata": {},
          "execution_count": 112
        }
      ]
    },
    {
      "cell_type": "code",
      "source": [
        "# array1.dtype\n",
        "\n",
        "# 타입변환 - pandas 에서 변환 / astype() 변환\n",
        "# float64 : float 를 64비트로 표현 (8바이트)\n",
        "# float : 4byte\n",
        "# double : 8byte (float64 = double)\n",
        "array_f1 = array1.astype(\"float64\")\n",
        "array_f1.dtype"
      ],
      "metadata": {
        "colab": {
          "base_uri": "https://localhost:8080/"
        },
        "id": "oylqReTdju-m",
        "outputId": "784c5320-5add-4662-b839-1e3cefd480b7"
      },
      "execution_count": 113,
      "outputs": [
        {
          "output_type": "execute_result",
          "data": {
            "text/plain": [
              "dtype('float64')"
            ]
          },
          "metadata": {},
          "execution_count": 113
        }
      ]
    },
    {
      "cell_type": "markdown",
      "source": [
        "### 3. 넘파이 함수"
      ],
      "metadata": {
        "id": "sPVkzgLWlFbP"
      }
    },
    {
      "cell_type": "code",
      "source": [
        "# arange(n) : 0 ~ n-1 해당하는 넘파이 배열 생성\n",
        "\n",
        "np.arange(10)\n",
        "\n",
        "np.arange(5, 10)\n",
        "\n",
        "np.arange(1, 10, 2)"
      ],
      "metadata": {
        "colab": {
          "base_uri": "https://localhost:8080/"
        },
        "id": "brKntE9hkRu2",
        "outputId": "287f12ee-7e16-468f-f339-de1b715a2270"
      },
      "execution_count": 114,
      "outputs": [
        {
          "output_type": "execute_result",
          "data": {
            "text/plain": [
              "array([1, 3, 5, 7, 9])"
            ]
          },
          "metadata": {},
          "execution_count": 114
        }
      ]
    },
    {
      "cell_type": "code",
      "source": [
        "# 5의 배수 넘파이 배열 생성\n",
        "np.arange(5,101,5)"
      ],
      "metadata": {
        "colab": {
          "base_uri": "https://localhost:8080/"
        },
        "id": "oloihME_loNe",
        "outputId": "609b8639-c4c5-4b14-cb20-3d96f958bd34"
      },
      "execution_count": 115,
      "outputs": [
        {
          "output_type": "execute_result",
          "data": {
            "text/plain": [
              "array([  5,  10,  15,  20,  25,  30,  35,  40,  45,  50,  55,  60,  65,\n",
              "        70,  75,  80,  85,  90,  95, 100])"
            ]
          },
          "metadata": {},
          "execution_count": 115
        }
      ]
    },
    {
      "cell_type": "code",
      "source": [
        "# zeros(n) : n 개만큼 0을 채워서 넘파이 1차원 배열 생성 (기본 float 타입)\n",
        "# zeros(행, 열) : 2차원 배열 생성\n",
        "\n",
        "np.zeros(4)\n",
        "\n",
        "np.zeros((3,4))\n",
        "\n",
        "np.zeros((3,4,2))"
      ],
      "metadata": {
        "colab": {
          "base_uri": "https://localhost:8080/"
        },
        "id": "6CTU0UaPlNDH",
        "outputId": "15d38aad-6fa1-4c67-b2ec-598b2c678fbf"
      },
      "execution_count": 116,
      "outputs": [
        {
          "output_type": "execute_result",
          "data": {
            "text/plain": [
              "array([[[0., 0.],\n",
              "        [0., 0.],\n",
              "        [0., 0.],\n",
              "        [0., 0.]],\n",
              "\n",
              "       [[0., 0.],\n",
              "        [0., 0.],\n",
              "        [0., 0.],\n",
              "        [0., 0.]],\n",
              "\n",
              "       [[0., 0.],\n",
              "        [0., 0.],\n",
              "        [0., 0.],\n",
              "        [0., 0.]]])"
            ]
          },
          "metadata": {},
          "execution_count": 116
        }
      ]
    },
    {
      "cell_type": "code",
      "source": [
        "# ones(n) : n개만큼 1을 채워서 넘파이 1차원 배열 생성\n",
        "\n",
        "np.ones(4)\n",
        "\n",
        "np.ones((2,3))"
      ],
      "metadata": {
        "colab": {
          "base_uri": "https://localhost:8080/"
        },
        "id": "PYHgjuHimG-e",
        "outputId": "d8542605-1466-46e3-8258-1ccf34c1b8c4"
      },
      "execution_count": 117,
      "outputs": [
        {
          "output_type": "execute_result",
          "data": {
            "text/plain": [
              "array([[1., 1., 1.],\n",
              "       [1., 1., 1.]])"
            ]
          },
          "metadata": {},
          "execution_count": 117
        }
      ]
    },
    {
      "cell_type": "code",
      "source": [
        "# np.empty() : 임의의 값을 넣어줌\n",
        "\n",
        "np.empty(4)\n",
        "np.empty((3,4), dtype=int)"
      ],
      "metadata": {
        "colab": {
          "base_uri": "https://localhost:8080/"
        },
        "id": "oZ6F2HDEnCIX",
        "outputId": "a517cc08-ba3b-4d1c-b150-7f2dc2e86688"
      },
      "execution_count": 118,
      "outputs": [
        {
          "output_type": "execute_result",
          "data": {
            "text/plain": [
              "array([[0, 0, 0, 0],\n",
              "       [0, 0, 0, 0],\n",
              "       [0, 0, 0, 0]])"
            ]
          },
          "metadata": {},
          "execution_count": 118
        }
      ]
    },
    {
      "cell_type": "code",
      "source": [
        "# np.full() : 특정한 값으로 채워진 넘파이 배열 생성\n",
        "\n",
        "np.full(4, fill_value=7)\n",
        "np.full((2,4), fill_value=5)"
      ],
      "metadata": {
        "colab": {
          "base_uri": "https://localhost:8080/"
        },
        "id": "ZPJyCTAJngjf",
        "outputId": "6f5726d1-f414-4f4d-c26c-50daf76d3900"
      },
      "execution_count": 119,
      "outputs": [
        {
          "output_type": "execute_result",
          "data": {
            "text/plain": [
              "array([[5, 5, 5, 5],\n",
              "       [5, 5, 5, 5]])"
            ]
          },
          "metadata": {},
          "execution_count": 119
        }
      ]
    },
    {
      "cell_type": "code",
      "source": [
        "# np.eye(n)\n",
        "\n",
        "np.eye(3)"
      ],
      "metadata": {
        "colab": {
          "base_uri": "https://localhost:8080/"
        },
        "id": "qsGVBVpeoIfA",
        "outputId": "5244fc30-678c-4f4d-be33-d389fff46f70"
      },
      "execution_count": 120,
      "outputs": [
        {
          "output_type": "execute_result",
          "data": {
            "text/plain": [
              "array([[1., 0., 0.],\n",
              "       [0., 1., 0.],\n",
              "       [0., 0., 1.]])"
            ]
          },
          "metadata": {},
          "execution_count": 120
        }
      ]
    },
    {
      "cell_type": "code",
      "source": [
        "# np.linspace(시작, 끝, 전체개수) : 시작과 끝 범위에서 균등하게 분할된 값으로 반환\n",
        "\n",
        "np.linspace(1,10,5)\n",
        "np.linspace(1,10,4)"
      ],
      "metadata": {
        "colab": {
          "base_uri": "https://localhost:8080/"
        },
        "id": "rLtv39O3oV4H",
        "outputId": "2e56083c-706f-48c2-eaf7-1f3c145ba01b"
      },
      "execution_count": 121,
      "outputs": [
        {
          "output_type": "execute_result",
          "data": {
            "text/plain": [
              "array([ 1.,  4.,  7., 10.])"
            ]
          },
          "metadata": {},
          "execution_count": 121
        }
      ]
    },
    {
      "cell_type": "code",
      "source": [
        "# np.random.rand(n) : 0 ~ 1 사이\n",
        "\n",
        "np.random.rand(2,3)"
      ],
      "metadata": {
        "colab": {
          "base_uri": "https://localhost:8080/"
        },
        "id": "nla2gPw_owEX",
        "outputId": "28c8625d-7c5b-46d1-8dc9-b64b542c9d27"
      },
      "execution_count": 122,
      "outputs": [
        {
          "output_type": "execute_result",
          "data": {
            "text/plain": [
              "array([[0.18311175, 0.50355505, 0.97588764],\n",
              "       [0.21490002, 0.59912092, 0.90698919]])"
            ]
          },
          "metadata": {},
          "execution_count": 122
        }
      ]
    },
    {
      "cell_type": "code",
      "source": [
        "# np.random.randn() : 정규분포로 샘플링 된 배열 생성\n",
        "np.random.randn(5)\n",
        "np.random.randn(3,4)"
      ],
      "metadata": {
        "colab": {
          "base_uri": "https://localhost:8080/"
        },
        "id": "DgsDLkjmpbuo",
        "outputId": "62a3259e-ca5c-4706-ac82-5afa916e1fef"
      },
      "execution_count": 123,
      "outputs": [
        {
          "output_type": "execute_result",
          "data": {
            "text/plain": [
              "array([[ 0.67904359, -0.86189082, -0.60542449, -0.57966623],\n",
              "       [ 0.40824139, -0.7299122 ,  0.80001301, -0.67359655],\n",
              "       [ 0.58912829, -0.46740728,  0.07614012, -0.20123415]])"
            ]
          },
          "metadata": {},
          "execution_count": 123
        }
      ]
    },
    {
      "cell_type": "code",
      "source": [
        "# np.random.randint(시작, 마지막, 개수) : 특정 범위 안의 숫자 추출\n",
        "\n",
        "np.random.randint(1,10, 5)"
      ],
      "metadata": {
        "colab": {
          "base_uri": "https://localhost:8080/"
        },
        "id": "RFxC--Lrp1Q_",
        "outputId": "8cfaf46b-cf82-45e6-c995-c0e2b159917e"
      },
      "execution_count": 124,
      "outputs": [
        {
          "output_type": "execute_result",
          "data": {
            "text/plain": [
              "array([1, 7, 2, 6, 8])"
            ]
          },
          "metadata": {},
          "execution_count": 124
        }
      ]
    },
    {
      "cell_type": "code",
      "source": [
        "# np.random.seed(임의의 숫자) : random 사용 시 실행 때마다 결과가 다르게 나오는 것을 방지\n",
        "\n",
        "np.random.seed(140)\n",
        "np.random.randn(2,3)"
      ],
      "metadata": {
        "colab": {
          "base_uri": "https://localhost:8080/"
        },
        "id": "pavG5tYmqeJA",
        "outputId": "95692cd7-bb90-437b-c5ad-9b9480d09ef4"
      },
      "execution_count": 125,
      "outputs": [
        {
          "output_type": "execute_result",
          "data": {
            "text/plain": [
              "array([[-0.46716782,  0.29599552,  0.18548011],\n",
              "       [-0.82809842, -0.03192753,  1.00155352]])"
            ]
          },
          "metadata": {},
          "execution_count": 125
        }
      ]
    },
    {
      "cell_type": "code",
      "source": [
        "# np.random.choice(n) : 0 ~ n-1 까지 임의의 수 추출\n",
        "np.random.choice(100)\n",
        "np.random.choice(100, size=(3,4))"
      ],
      "metadata": {
        "colab": {
          "base_uri": "https://localhost:8080/"
        },
        "id": "XUCAD7gPqlTg",
        "outputId": "391d6571-8be2-4981-bcef-6c9764ce6f7a"
      },
      "execution_count": 126,
      "outputs": [
        {
          "output_type": "execute_result",
          "data": {
            "text/plain": [
              "array([[44, 47, 66, 75],\n",
              "       [ 5, 36, 36, 40],\n",
              "       [13, 84, 33, 67]])"
            ]
          },
          "metadata": {},
          "execution_count": 126
        }
      ]
    },
    {
      "cell_type": "markdown",
      "source": [
        "### 4. 인덱싱과 슬라이싱"
      ],
      "metadata": {
        "id": "m4SoWLlE7xl4"
      }
    },
    {
      "cell_type": "code",
      "source": [
        "arr1 = np.arange(1,10)\n",
        "arr1\n",
        "\n",
        "print(arr1[2])\n",
        "print(arr1[-2])\n",
        "\n",
        "arr1[3] = 18\n",
        "arr1"
      ],
      "metadata": {
        "colab": {
          "base_uri": "https://localhost:8080/"
        },
        "id": "rc5oCpasq-M4",
        "outputId": "2f0fb6b2-cfeb-41bb-f416-7315f15b7555"
      },
      "execution_count": 127,
      "outputs": [
        {
          "output_type": "stream",
          "name": "stdout",
          "text": [
            "3\n",
            "8\n"
          ]
        },
        {
          "output_type": "execute_result",
          "data": {
            "text/plain": [
              "array([ 1,  2,  3, 18,  5,  6,  7,  8,  9])"
            ]
          },
          "metadata": {},
          "execution_count": 127
        }
      ]
    },
    {
      "cell_type": "code",
      "source": [
        "# reshape()\n",
        "\n",
        "arr1 = np.arange(1,10).reshape(3,3)"
      ],
      "metadata": {
        "id": "olExuLQe79F3"
      },
      "execution_count": 128,
      "outputs": []
    },
    {
      "cell_type": "code",
      "source": [
        "print(arr1[0,0])\n",
        "print(arr1[1,1])"
      ],
      "metadata": {
        "colab": {
          "base_uri": "https://localhost:8080/"
        },
        "id": "X2fpSpyA8eDf",
        "outputId": "4baa3e61-133a-4ccd-a8de-a037c24ec4d7"
      },
      "execution_count": 129,
      "outputs": [
        {
          "output_type": "stream",
          "name": "stdout",
          "text": [
            "1\n",
            "5\n"
          ]
        }
      ]
    },
    {
      "cell_type": "code",
      "source": [
        "# 3차원 : 텐서\n",
        "\n",
        "arr1 = np.arange(36).reshape(3,4,3)\n",
        "arr1"
      ],
      "metadata": {
        "colab": {
          "base_uri": "https://localhost:8080/"
        },
        "id": "89yqy3P88m0X",
        "outputId": "036debf9-c320-44bb-9b0c-d3b3ec05f64f"
      },
      "execution_count": 130,
      "outputs": [
        {
          "output_type": "execute_result",
          "data": {
            "text/plain": [
              "array([[[ 0,  1,  2],\n",
              "        [ 3,  4,  5],\n",
              "        [ 6,  7,  8],\n",
              "        [ 9, 10, 11]],\n",
              "\n",
              "       [[12, 13, 14],\n",
              "        [15, 16, 17],\n",
              "        [18, 19, 20],\n",
              "        [21, 22, 23]],\n",
              "\n",
              "       [[24, 25, 26],\n",
              "        [27, 28, 29],\n",
              "        [30, 31, 32],\n",
              "        [33, 34, 35]]])"
            ]
          },
          "metadata": {},
          "execution_count": 130
        }
      ]
    },
    {
      "cell_type": "code",
      "source": [
        "arr1[0]"
      ],
      "metadata": {
        "colab": {
          "base_uri": "https://localhost:8080/"
        },
        "id": "uAmERV-v80MU",
        "outputId": "72839920-dc35-4ab5-bfd3-6b456a19b82b"
      },
      "execution_count": 131,
      "outputs": [
        {
          "output_type": "execute_result",
          "data": {
            "text/plain": [
              "array([[ 0,  1,  2],\n",
              "       [ 3,  4,  5],\n",
              "       [ 6,  7,  8],\n",
              "       [ 9, 10, 11]])"
            ]
          },
          "metadata": {},
          "execution_count": 131
        }
      ]
    },
    {
      "cell_type": "code",
      "source": [
        "arr1[0,1]"
      ],
      "metadata": {
        "colab": {
          "base_uri": "https://localhost:8080/"
        },
        "id": "Ve3ICVeB9DJQ",
        "outputId": "f144ec6a-4110-462f-86d6-faba71c11c2a"
      },
      "execution_count": 132,
      "outputs": [
        {
          "output_type": "execute_result",
          "data": {
            "text/plain": [
              "array([3, 4, 5])"
            ]
          },
          "metadata": {},
          "execution_count": 132
        }
      ]
    },
    {
      "cell_type": "code",
      "source": [
        "arr1[0,1,-1]"
      ],
      "metadata": {
        "colab": {
          "base_uri": "https://localhost:8080/"
        },
        "id": "UETZRXhn9F_n",
        "outputId": "3227829b-4ebb-45f9-c662-dcc8398591e9"
      },
      "execution_count": 133,
      "outputs": [
        {
          "output_type": "execute_result",
          "data": {
            "text/plain": [
              "5"
            ]
          },
          "metadata": {},
          "execution_count": 133
        }
      ]
    },
    {
      "cell_type": "code",
      "source": [
        "# 16 출력\n",
        "arr1[1,1,1]"
      ],
      "metadata": {
        "colab": {
          "base_uri": "https://localhost:8080/"
        },
        "id": "VgnhjuTc9H4P",
        "outputId": "2a89b7c1-1981-4afa-8106-a4c3a24d3080"
      },
      "execution_count": 134,
      "outputs": [
        {
          "output_type": "execute_result",
          "data": {
            "text/plain": [
              "16"
            ]
          },
          "metadata": {},
          "execution_count": 134
        }
      ]
    },
    {
      "cell_type": "code",
      "source": [
        "arr1 = np.arange(1,10)\n",
        "arr1"
      ],
      "metadata": {
        "colab": {
          "base_uri": "https://localhost:8080/"
        },
        "id": "t-Hsx6q39Rt3",
        "outputId": "6ffb87a3-b2f2-4ce3-f634-931cf74ca824"
      },
      "execution_count": 135,
      "outputs": [
        {
          "output_type": "execute_result",
          "data": {
            "text/plain": [
              "array([1, 2, 3, 4, 5, 6, 7, 8, 9])"
            ]
          },
          "metadata": {},
          "execution_count": 135
        }
      ]
    },
    {
      "cell_type": "code",
      "source": [
        "arr1[0:3]\n",
        "arr1[:3]\n",
        "arr1[3:]"
      ],
      "metadata": {
        "colab": {
          "base_uri": "https://localhost:8080/"
        },
        "id": "m_oehsvh9emn",
        "outputId": "efa6dbfc-d1aa-4591-c92b-5b3b8376e0cc"
      },
      "execution_count": 136,
      "outputs": [
        {
          "output_type": "execute_result",
          "data": {
            "text/plain": [
              "array([4, 5, 6, 7, 8, 9])"
            ]
          },
          "metadata": {},
          "execution_count": 136
        }
      ]
    },
    {
      "cell_type": "code",
      "source": [
        "arr1 = np.arange(1,10).reshape(3,3)\n",
        "arr1"
      ],
      "metadata": {
        "colab": {
          "base_uri": "https://localhost:8080/"
        },
        "id": "fBTZ_21X9f9f",
        "outputId": "e5a3c714-1153-48ae-d6b4-eb042b7336ec"
      },
      "execution_count": 137,
      "outputs": [
        {
          "output_type": "execute_result",
          "data": {
            "text/plain": [
              "array([[1, 2, 3],\n",
              "       [4, 5, 6],\n",
              "       [7, 8, 9]])"
            ]
          },
          "metadata": {},
          "execution_count": 137
        }
      ]
    },
    {
      "cell_type": "code",
      "source": [
        "arr1[:2,:1]"
      ],
      "metadata": {
        "colab": {
          "base_uri": "https://localhost:8080/"
        },
        "id": "NYlVDNX09y73",
        "outputId": "4e46c928-0cc2-4a90-928a-b932db1b8f52"
      },
      "execution_count": 138,
      "outputs": [
        {
          "output_type": "execute_result",
          "data": {
            "text/plain": [
              "array([[1],\n",
              "       [4]])"
            ]
          },
          "metadata": {},
          "execution_count": 138
        }
      ]
    },
    {
      "cell_type": "code",
      "source": [
        "arr1[1:3,:]"
      ],
      "metadata": {
        "colab": {
          "base_uri": "https://localhost:8080/"
        },
        "id": "YgQv9eOB94Tv",
        "outputId": "66c2e8a3-f3b9-4a46-c465-8888499c5073"
      },
      "execution_count": 139,
      "outputs": [
        {
          "output_type": "execute_result",
          "data": {
            "text/plain": [
              "array([[4, 5, 6],\n",
              "       [7, 8, 9]])"
            ]
          },
          "metadata": {},
          "execution_count": 139
        }
      ]
    },
    {
      "cell_type": "code",
      "source": [
        "arr1 = np.arange(1,10)\n",
        "arr1"
      ],
      "metadata": {
        "colab": {
          "base_uri": "https://localhost:8080/"
        },
        "id": "xY5Hg5X9-KaP",
        "outputId": "e7bd41c5-44b8-4544-c4f5-216481d92836"
      },
      "execution_count": 140,
      "outputs": [
        {
          "output_type": "execute_result",
          "data": {
            "text/plain": [
              "array([1, 2, 3, 4, 5, 6, 7, 8, 9])"
            ]
          },
          "metadata": {},
          "execution_count": 140
        }
      ]
    },
    {
      "cell_type": "code",
      "source": [
        "arr1[arr1 > 5]"
      ],
      "metadata": {
        "colab": {
          "base_uri": "https://localhost:8080/"
        },
        "id": "9dMdWNtv-WO_",
        "outputId": "5a486ed1-3bc2-4db4-df55-15aabb1f9d8a"
      },
      "execution_count": 141,
      "outputs": [
        {
          "output_type": "execute_result",
          "data": {
            "text/plain": [
              "array([6, 7, 8, 9])"
            ]
          },
          "metadata": {},
          "execution_count": 141
        }
      ]
    },
    {
      "cell_type": "markdown",
      "source": [
        "### 데이터 형태 변경"
      ],
      "metadata": {
        "id": "jT5pJ3gK-pnB"
      }
    },
    {
      "cell_type": "code",
      "source": [
        "y = np.arange(15).reshape(3,5)\n",
        "y"
      ],
      "metadata": {
        "colab": {
          "base_uri": "https://localhost:8080/"
        },
        "id": "ixAFYezb-X0v",
        "outputId": "ef148145-d185-4eb3-c0f5-42f138bf2fa4"
      },
      "execution_count": 142,
      "outputs": [
        {
          "output_type": "execute_result",
          "data": {
            "text/plain": [
              "array([[ 0,  1,  2,  3,  4],\n",
              "       [ 5,  6,  7,  8,  9],\n",
              "       [10, 11, 12, 13, 14]])"
            ]
          },
          "metadata": {},
          "execution_count": 142
        }
      ]
    },
    {
      "cell_type": "code",
      "source": [
        "y.flatten()"
      ],
      "metadata": {
        "colab": {
          "base_uri": "https://localhost:8080/"
        },
        "id": "JwWmZqD_-xBA",
        "outputId": "9f391407-d3ba-4404-b383-2082f2df5a7e"
      },
      "execution_count": 143,
      "outputs": [
        {
          "output_type": "execute_result",
          "data": {
            "text/plain": [
              "array([ 0,  1,  2,  3,  4,  5,  6,  7,  8,  9, 10, 11, 12, 13, 14])"
            ]
          },
          "metadata": {},
          "execution_count": 143
        }
      ]
    },
    {
      "cell_type": "code",
      "source": [
        "# 2*3 5개\n",
        "\n",
        "x = np.arange(30).reshape(2,3,5)\n",
        "x"
      ],
      "metadata": {
        "colab": {
          "base_uri": "https://localhost:8080/"
        },
        "id": "2al-NLgn-_x_",
        "outputId": "0c0ce888-783f-4cb9-8f2f-5559f3dad4fa"
      },
      "execution_count": 144,
      "outputs": [
        {
          "output_type": "execute_result",
          "data": {
            "text/plain": [
              "array([[[ 0,  1,  2,  3,  4],\n",
              "        [ 5,  6,  7,  8,  9],\n",
              "        [10, 11, 12, 13, 14]],\n",
              "\n",
              "       [[15, 16, 17, 18, 19],\n",
              "        [20, 21, 22, 23, 24],\n",
              "        [25, 26, 27, 28, 29]]])"
            ]
          },
          "metadata": {},
          "execution_count": 144
        }
      ]
    },
    {
      "cell_type": "code",
      "source": [
        "x.flatten()"
      ],
      "metadata": {
        "colab": {
          "base_uri": "https://localhost:8080/"
        },
        "id": "Hd4L1Nlv_NfQ",
        "outputId": "7f7dbd06-91c6-4d60-b6b0-e4a17ef1a97f"
      },
      "execution_count": 145,
      "outputs": [
        {
          "output_type": "execute_result",
          "data": {
            "text/plain": [
              "array([ 0,  1,  2,  3,  4,  5,  6,  7,  8,  9, 10, 11, 12, 13, 14, 15, 16,\n",
              "       17, 18, 19, 20, 21, 22, 23, 24, 25, 26, 27, 28, 29])"
            ]
          },
          "metadata": {},
          "execution_count": 145
        }
      ]
    },
    {
      "cell_type": "markdown",
      "source": [
        "### ndarray 기본 함수\n",
        "- add(), subtract(), multiply(), divide() 기본함수 제공"
      ],
      "metadata": {
        "id": "FBuov75O_rag"
      }
    },
    {
      "cell_type": "code",
      "source": [
        "x = np.array([[4,4,4],[8,8,8]])\n",
        "y = np.array([[1,1,1],[2,2,2]])"
      ],
      "metadata": {
        "id": "2tGITYVa_hRA"
      },
      "execution_count": 146,
      "outputs": []
    },
    {
      "cell_type": "code",
      "source": [
        "x + y"
      ],
      "metadata": {
        "colab": {
          "base_uri": "https://localhost:8080/"
        },
        "id": "uLqWBhhaABAB",
        "outputId": "c549537f-447e-4f1b-9d22-1969ff3da104"
      },
      "execution_count": 147,
      "outputs": [
        {
          "output_type": "execute_result",
          "data": {
            "text/plain": [
              "array([[ 5,  5,  5],\n",
              "       [10, 10, 10]])"
            ]
          },
          "metadata": {},
          "execution_count": 147
        }
      ]
    },
    {
      "cell_type": "code",
      "source": [
        "x - y"
      ],
      "metadata": {
        "colab": {
          "base_uri": "https://localhost:8080/"
        },
        "id": "ZvXFcFFeALfQ",
        "outputId": "c6e3acf9-feaa-444b-f7ec-9a1da3692f96"
      },
      "execution_count": 148,
      "outputs": [
        {
          "output_type": "execute_result",
          "data": {
            "text/plain": [
              "array([[3, 3, 3],\n",
              "       [6, 6, 6]])"
            ]
          },
          "metadata": {},
          "execution_count": 148
        }
      ]
    },
    {
      "cell_type": "code",
      "source": [
        "x * y"
      ],
      "metadata": {
        "colab": {
          "base_uri": "https://localhost:8080/"
        },
        "id": "48FuYmP5AMD4",
        "outputId": "2fa35a42-565c-4374-fcdf-267e8eaa38a9"
      },
      "execution_count": 149,
      "outputs": [
        {
          "output_type": "execute_result",
          "data": {
            "text/plain": [
              "array([[ 4,  4,  4],\n",
              "       [16, 16, 16]])"
            ]
          },
          "metadata": {},
          "execution_count": 149
        }
      ]
    },
    {
      "cell_type": "code",
      "source": [
        "x / y"
      ],
      "metadata": {
        "colab": {
          "base_uri": "https://localhost:8080/"
        },
        "id": "4VEKwwAuASDA",
        "outputId": "3c82a2c2-56e1-45af-98bf-5ba658d0c44f"
      },
      "execution_count": 150,
      "outputs": [
        {
          "output_type": "execute_result",
          "data": {
            "text/plain": [
              "array([[4., 4., 4.],\n",
              "       [4., 4., 4.]])"
            ]
          },
          "metadata": {},
          "execution_count": 150
        }
      ]
    },
    {
      "cell_type": "code",
      "source": [
        "np.add(x,y)"
      ],
      "metadata": {
        "colab": {
          "base_uri": "https://localhost:8080/"
        },
        "id": "OfpRCl5nASpg",
        "outputId": "4053796c-54a9-4c56-fd20-ddfa590c5c8d"
      },
      "execution_count": 151,
      "outputs": [
        {
          "output_type": "execute_result",
          "data": {
            "text/plain": [
              "array([[ 5,  5,  5],\n",
              "       [10, 10, 10]])"
            ]
          },
          "metadata": {},
          "execution_count": 151
        }
      ]
    },
    {
      "cell_type": "code",
      "source": [
        "np.subtract(x,y)"
      ],
      "metadata": {
        "colab": {
          "base_uri": "https://localhost:8080/"
        },
        "id": "PBw3XrrsAaJg",
        "outputId": "2df893d1-78cc-44af-da02-292c48779627"
      },
      "execution_count": 152,
      "outputs": [
        {
          "output_type": "execute_result",
          "data": {
            "text/plain": [
              "array([[3, 3, 3],\n",
              "       [6, 6, 6]])"
            ]
          },
          "metadata": {},
          "execution_count": 152
        }
      ]
    },
    {
      "cell_type": "code",
      "source": [
        "np.multiply(x, y)"
      ],
      "metadata": {
        "colab": {
          "base_uri": "https://localhost:8080/"
        },
        "id": "rObGs9bgAduo",
        "outputId": "7150191b-09c7-4e5d-b30d-a61d6c052c59"
      },
      "execution_count": 153,
      "outputs": [
        {
          "output_type": "execute_result",
          "data": {
            "text/plain": [
              "array([[ 4,  4,  4],\n",
              "       [16, 16, 16]])"
            ]
          },
          "metadata": {},
          "execution_count": 153
        }
      ]
    },
    {
      "cell_type": "code",
      "source": [
        "np.divide(x, y)"
      ],
      "metadata": {
        "colab": {
          "base_uri": "https://localhost:8080/"
        },
        "id": "CgV0bHS2AhTA",
        "outputId": "4bf9d447-76f2-469a-c00e-56f6355d82b7"
      },
      "execution_count": 154,
      "outputs": [
        {
          "output_type": "execute_result",
          "data": {
            "text/plain": [
              "array([[4., 4., 4.],\n",
              "       [4., 4., 4.]])"
            ]
          },
          "metadata": {},
          "execution_count": 154
        }
      ]
    },
    {
      "cell_type": "code",
      "source": [
        "x = np.random.rand(15)\n",
        "x"
      ],
      "metadata": {
        "colab": {
          "base_uri": "https://localhost:8080/"
        },
        "id": "9NV53ir1AjMw",
        "outputId": "388dab14-6ff5-47e6-ceb7-c44cef6ec7af"
      },
      "execution_count": 155,
      "outputs": [
        {
          "output_type": "execute_result",
          "data": {
            "text/plain": [
              "array([0.73691749, 0.8361513 , 0.15280743, 0.50877979, 0.90080608,\n",
              "       0.25138757, 0.16394773, 0.59597188, 0.99107897, 0.41354387,\n",
              "       0.31160974, 0.74089766, 0.14398804, 0.53811173, 0.62095789])"
            ]
          },
          "metadata": {},
          "execution_count": 155
        }
      ]
    },
    {
      "cell_type": "code",
      "source": [
        "x.mean()"
      ],
      "metadata": {
        "colab": {
          "base_uri": "https://localhost:8080/"
        },
        "id": "JpOV1IuFAyA4",
        "outputId": "6c408fe9-6e33-4543-e4bf-dafbb8c1febd"
      },
      "execution_count": 156,
      "outputs": [
        {
          "output_type": "execute_result",
          "data": {
            "text/plain": [
              "0.5271304791924293"
            ]
          },
          "metadata": {},
          "execution_count": 156
        }
      ]
    },
    {
      "cell_type": "code",
      "source": [
        "# 최대값의 인덱스\n",
        "\n",
        "x.argmax()"
      ],
      "metadata": {
        "colab": {
          "base_uri": "https://localhost:8080/"
        },
        "id": "wfJFiGgcA56I",
        "outputId": "57240269-4840-4a2c-ad68-4b785c49901a"
      },
      "execution_count": 157,
      "outputs": [
        {
          "output_type": "execute_result",
          "data": {
            "text/plain": [
              "8"
            ]
          },
          "metadata": {},
          "execution_count": 157
        }
      ]
    },
    {
      "cell_type": "code",
      "source": [
        "x.std()"
      ],
      "metadata": {
        "colab": {
          "base_uri": "https://localhost:8080/"
        },
        "id": "I9O__R6BBWNY",
        "outputId": "52edfded-c17f-4ae6-beb2-5327f3b4546e"
      },
      "execution_count": 158,
      "outputs": [
        {
          "output_type": "execute_result",
          "data": {
            "text/plain": [
              "0.2718192305311343"
            ]
          },
          "metadata": {},
          "execution_count": 158
        }
      ]
    },
    {
      "cell_type": "code",
      "source": [
        "x.sum()"
      ],
      "metadata": {
        "colab": {
          "base_uri": "https://localhost:8080/"
        },
        "id": "vtDy09fkBXkJ",
        "outputId": "bc64f2ac-fbb3-41ce-9d3d-949152071258"
      },
      "execution_count": 159,
      "outputs": [
        {
          "output_type": "execute_result",
          "data": {
            "text/plain": [
              "7.906957187886439"
            ]
          },
          "metadata": {},
          "execution_count": 159
        }
      ]
    },
    {
      "cell_type": "code",
      "source": [
        "# 이전 요소 덧셈합\n",
        "x.cumsum()"
      ],
      "metadata": {
        "id": "wJOnIF3zBfOQ",
        "outputId": "9d73e4b9-4453-48a3-9cfc-756c6845b6d1",
        "colab": {
          "base_uri": "https://localhost:8080/"
        }
      },
      "execution_count": 160,
      "outputs": [
        {
          "output_type": "execute_result",
          "data": {
            "text/plain": [
              "array([0.73691749, 1.5730688 , 1.72587623, 2.23465602, 3.1354621 ,\n",
              "       3.38684967, 3.5507974 , 4.14676928, 5.13784825, 5.55139212,\n",
              "       5.86300186, 6.60389952, 6.74788757, 7.2859993 , 7.90695719])"
            ]
          },
          "metadata": {},
          "execution_count": 160
        }
      ]
    },
    {
      "cell_type": "code",
      "source": [],
      "metadata": {
        "id": "e6JuPTIyBhdo"
      },
      "execution_count": 160,
      "outputs": []
    }
  ]
}